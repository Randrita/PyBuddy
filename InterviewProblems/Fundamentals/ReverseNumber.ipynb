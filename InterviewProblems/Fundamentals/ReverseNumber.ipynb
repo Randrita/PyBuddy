{
 "cells": [
  {
   "cell_type": "code",
   "execution_count": null,
   "source": [
    "#Reverse the number\r\n",
    "def ReverseNumber(x):\r\n",
    "    res=0\r\n",
    "    while(x):\r\n",
    "        n=x%10\r\n",
    "        res=res*10+n\r\n",
    "        x=x//10\r\n",
    "     \r\n",
    "    return res \r\n",
    "\r\n",
    "print(ReverseNumber(int(input())))"
   ],
   "outputs": [],
   "metadata": {}
  }
 ],
 "metadata": {
  "orig_nbformat": 4,
  "language_info": {
   "name": "python"
  }
 },
 "nbformat": 4,
 "nbformat_minor": 2
}