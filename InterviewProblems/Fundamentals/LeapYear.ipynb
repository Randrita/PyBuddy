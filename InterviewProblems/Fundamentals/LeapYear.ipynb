{
 "cells": [
  {
   "cell_type": "code",
   "execution_count": null,
   "source": [
    "#Leap Year Or Not\r\n",
    "def LeapYear(Y):\r\n",
    "      \r\n",
    "  if Y%4==0:\r\n",
    "    if Y%100==0:\r\n",
    "      if Y%400==0:\r\n",
    "        print('Yes')\r\n",
    "      else:\r\n",
    "        print('No')\r\n",
    "        \r\n",
    "    else:\r\n",
    "      print('Yes')\r\n",
    "      \r\n",
    "  else:\r\n",
    "    print('No')\r\n",
    "    \r\n",
    "    \r\n",
    "\r\n",
    "for _ in range(int(input())):\r\n",
    "  LeapYear(int(input()))"
   ],
   "outputs": [],
   "metadata": {}
  }
 ],
 "metadata": {
  "orig_nbformat": 4,
  "language_info": {
   "name": "python"
  }
 },
 "nbformat": 4,
 "nbformat_minor": 2
}