{
 "cells": [
  {
   "cell_type": "code",
   "execution_count": null,
   "source": [
    "n=int(input())\r\n",
    "l=list(map(int,input().split()))\r\n",
    "for i in l:\r\n",
    "    if i%2==0:\r\n",
    "        print(i,end=\" \")\r\n",
    "\r\n",
    "print()\r\n",
    "\r\n",
    "for i in l:\r\n",
    "    if i%2 !=0:\r\n",
    "        print(i,end=\" \")"
   ],
   "outputs": [],
   "metadata": {}
  }
 ],
 "metadata": {
  "orig_nbformat": 4,
  "language_info": {
   "name": "python"
  }
 },
 "nbformat": 4,
 "nbformat_minor": 2
}