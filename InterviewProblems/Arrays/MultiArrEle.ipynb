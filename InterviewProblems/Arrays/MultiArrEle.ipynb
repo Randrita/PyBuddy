{
 "cells": [
  {
   "cell_type": "code",
   "execution_count": null,
   "source": [
    "for _ in range(int(input())):\r\n",
    "      n=int(input())\r\n",
    "  l=list(map(int,input().split()))\r\n",
    "  temp=1\r\n",
    "  for i in l:\r\n",
    "    temp=temp*i\r\n",
    "    \r\n",
    "  print(temp)"
   ],
   "outputs": [],
   "metadata": {}
  }
 ],
 "metadata": {
  "orig_nbformat": 4,
  "language_info": {
   "name": "python"
  }
 },
 "nbformat": 4,
 "nbformat_minor": 2
}