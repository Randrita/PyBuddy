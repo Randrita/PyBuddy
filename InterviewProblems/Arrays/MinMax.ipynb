{
 "cells": [
  {
   "cell_type": "code",
   "execution_count": null,
   "source": [
    "#process 1\r\n",
    "for _ in range(int(input())):\r\n",
    "    a=int(input())\r\n",
    "    arr=list(map(int,input().split()))\r\n",
    "    minimum=min(arr)\r\n",
    "    maximum=max(arr)\r\n",
    "    print(minimum, maximum)"
   ],
   "outputs": [],
   "metadata": {}
  },
  {
   "cell_type": "code",
   "execution_count": null,
   "source": [
    "#proces 2\r\n",
    "\r\n",
    "for _ in range(int(input())):\r\n",
    "    l=int(input())\r\n",
    "    arr=list(map(int,input().split()))\r\n",
    "    min=10*7+1\r\n",
    "    max=-1\r\n",
    "  \r\n",
    "    for i in range(l):\r\n",
    "        if arr[i]<min:\r\n",
    "            min=arr[i]\r\n",
    "      \r\n",
    "    for i in range(l):\r\n",
    "        if arr[i]>max:\r\n",
    "            max=arr[i]\r\n",
    "      \r\n",
    "    print(min,max)"
   ],
   "outputs": [],
   "metadata": {}
  }
 ],
 "metadata": {
  "orig_nbformat": 4,
  "language_info": {
   "name": "python"
  }
 },
 "nbformat": 4,
 "nbformat_minor": 2
}