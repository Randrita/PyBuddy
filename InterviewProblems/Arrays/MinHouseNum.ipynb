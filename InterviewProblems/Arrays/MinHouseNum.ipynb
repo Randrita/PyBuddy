for _ in range(int(input())):
    n=int(input())
    l=list(map(int,input().split()))
    
    i=0
    min=1001
    for i in range (len(l)):
        if  l[i]<min:
            min=l[i]
    
    print(l.index(min))  
