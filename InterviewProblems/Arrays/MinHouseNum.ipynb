{
 "cells": [
  {
   "cell_type": "code",
   "execution_count": null,
   "source": [
    "for _ in range(int(input())):\r\n",
    "      n=int(input())\r\n",
    "  l=list(map(int,input().split()))\r\n",
    "  \r\n",
    "  min=0\r\n",
    "  for i in range (len(l)):\r\n",
    "    if  l[i]<min:\r\n",
    "      min=l[i]\r\n",
    "    \r\n",
    "  print(i) "
   ],
   "outputs": [],
   "metadata": {}
  }
 ],
 "metadata": {
  "orig_nbformat": 4,
  "language_info": {
   "name": "python"
  }
 },
 "nbformat": 4,
 "nbformat_minor": 2
}