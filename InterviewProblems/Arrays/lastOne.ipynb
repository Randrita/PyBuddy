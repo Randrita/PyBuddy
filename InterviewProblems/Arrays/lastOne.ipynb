{
 "cells": [
  {
   "cell_type": "code",
   "execution_count": null,
   "source": [
    "for i in range(int(input())):\r\n",
    "    n=int(input())\r\n",
    "    l=list(map(int,input().split()))\r\n",
    "    max=0.5\r\n",
    "    temp=-1\r\n",
    "    for i in range(len(l)):\r\n",
    "        if l[i]>=max:\r\n",
    "            max=l[i]\r\n",
    "            temp=i\r\n",
    "    \r\n",
    "    if temp==-1:\r\n",
    "        print('-1')\r\n",
    "    else:\r\n",
    "        print(temp)"
   ],
   "outputs": [],
   "metadata": {}
  }
 ],
 "metadata": {
  "orig_nbformat": 4,
  "language_info": {
   "name": "python"
  }
 },
 "nbformat": 4,
 "nbformat_minor": 2
}