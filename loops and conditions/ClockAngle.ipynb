{
 "cells": [
  {
   "cell_type": "markdown",
   "source": [
    "Clock and Angles\r\n",
    "PrepBuddy has an analog clock which consists of two hands one for hour and another for minute. She wants to calculate the shorter angle formed between hour and minute hand at any given time.\r\n",
    "\r\n",
    "Input format\r\n",
    "The first line contains the number of test cases \r\n",
    "T\r\n",
    ". \r\n",
    "Each test case contains two integers \r\n",
    "h\r\n",
    " and \r\n",
    "m\r\n",
    " representing the time in hour and minute format.\r\n",
    "\r\n",
    "Output format\r\n",
    "For each test case on a new line, print the required shorter angle.\r\n",
    "\r\n",
    "Constraints\r\n",
    "1\r\n",
    "<=\r\n",
    "T\r\n",
    "<=\r\n",
    "5\r\n",
    "\r\n",
    "All valid times\r\n",
    "\r\n",
    "Time Limit\r\n",
    "1\r\n",
    " second\r\n",
    "\r\n",
    "Example\r\n",
    "Input\r\n",
    "2\r\n",
    "\r\n",
    "5\r\n",
    " \r\n",
    "30\r\n",
    "\r\n",
    "6\r\n",
    " \r\n",
    "00\r\n",
    "\r\n",
    "Output\r\n",
    "15\r\n",
    "\r\n",
    "180"
   ],
   "metadata": {}
  },
  {
   "cell_type": "code",
   "execution_count": null,
   "source": [
    "T=int(input())\r\n",
    "n=1\r\n",
    "while(n<=T):\r\n",
    "    h,m=input().split()\r\n",
    "    h=int(h)\r\n",
    "    m=int(m)\r\n",
    "    path_min=m*6\r\n",
    "    path_hour=(h*60+m)*0.5\r\n",
    "    final_angle=abs(int(path_hour-path_min))\r\n",
    "    print(min(360-final_angle,final_angle))\r\n",
    "    #print(final_angle)\r\n",
    "    n +=1"
   ],
   "outputs": [],
   "metadata": {}
  }
 ],
 "metadata": {
  "orig_nbformat": 4,
  "language_info": {
   "name": "python"
  }
 },
 "nbformat": 4,
 "nbformat_minor": 2
}