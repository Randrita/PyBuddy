{
 "cells": [
  {
   "cell_type": "markdown",
   "source": [
    "PrepBuddy and Socks\r\n",
    "PrepBuddy is getting late for college. She is looking for a matching pair of socks from a box full of socks. In the worst-case scenario, how many socks should PrepBuddy remove from her drawer until she finds a matching pair.\r\n",
    "\r\n",
    "Input format\r\n",
    "The first line contains the number of test cases \r\n",
    "T\r\n",
    ". \r\n",
    "Next \r\n",
    "T\r\n",
    " lines contain an integer \r\n",
    "N\r\n",
    " which indicates the total pairs of socks present in the drawer.\r\n",
    "\r\n",
    "Output format\r\n",
    "Print the number of draws PrepBuddy will have to make in the worst case.\r\n",
    "\r\n",
    "Constraints\r\n",
    "1\r\n",
    "<=\r\n",
    "T\r\n",
    "<=\r\n",
    "1000\r\n",
    "\r\n",
    "1\r\n",
    "<=\r\n",
    "N\r\n",
    "<\r\n",
    "10\r\n",
    "6\r\n",
    "\r\n",
    "Time Limit\r\n",
    "1\r\n",
    " ​secon\r\n",
    "\r\n",
    "Example\r\n",
    "Input\r\n",
    "2\r\n",
    "\r\n",
    "1\r\n",
    "\r\n",
    "2\r\n",
    "\r\n",
    "Output\r\n",
    "2\r\n",
    "\r\n",
    "3"
   ],
   "metadata": {}
  },
  {
   "cell_type": "code",
   "execution_count": null,
   "source": [
    "T=int(input())\r\n",
    "m=1\r\n",
    "while(m<=T):\r\n",
    "    n=int(input())\r\n",
    "    print(n+1)\r\n",
    "    m+=1"
   ],
   "outputs": [],
   "metadata": {}
  }
 ],
 "metadata": {
  "orig_nbformat": 4,
  "language_info": {
   "name": "python"
  }
 },
 "nbformat": 4,
 "nbformat_minor": 2
}