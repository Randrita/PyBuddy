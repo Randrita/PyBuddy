{
 "cells": [
  {
   "cell_type": "code",
   "execution_count": null,
   "source": [
    "c=input()\r\n",
    "\r\n",
    "if (c=='P' or c=='p'):\r\n",
    "  print(\"PrepBytes\")\r\n",
    "  \r\n",
    "elif (c=='Z' or c=='z'):\r\n",
    "  print(\"Zenith\")\r\n",
    "\r\n",
    "elif (c=='E' or c=='e'):\r\n",
    "  print(\"Expert Coder\")\r\n",
    "  \r\n",
    "elif (c=='D' or c=='d'):\r\n",
    "  print(\"Data Structure\")"
   ],
   "outputs": [],
   "metadata": {}
  }
 ],
 "metadata": {
  "orig_nbformat": 4,
  "language_info": {
   "name": "python"
  }
 },
 "nbformat": 4,
 "nbformat_minor": 2
}