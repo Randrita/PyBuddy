{
 "cells": [
  {
   "cell_type": "code",
   "execution_count": null,
   "source": [
    "x,y=(input().split())\r\n",
    "x=int(x)\r\n",
    "y=int(y)\r\n",
    "\r\n",
    "if(x>y):\r\n",
    "  print(x,\"is greater than\",y)\r\n",
    "\r\n",
    "elif(x==y):\r\n",
    "  print(x,\"is equal to\",y)\r\n",
    "  \r\n",
    "else:\r\n",
    "  print(x,\"is smaller than\",y)"
   ],
   "outputs": [],
   "metadata": {}
  }
 ],
 "metadata": {
  "orig_nbformat": 4,
  "language_info": {
   "name": "python"
  }
 },
 "nbformat": 4,
 "nbformat_minor": 2
}