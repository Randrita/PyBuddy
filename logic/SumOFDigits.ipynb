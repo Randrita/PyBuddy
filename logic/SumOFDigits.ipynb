{
 "cells": [
  {
   "cell_type": "code",
   "execution_count": null,
   "source": [
    "def SumDigits(x):\r\n",
    "      res=0\r\n",
    "  while(x):\r\n",
    "    n=x%10\r\n",
    "    res=res+n\r\n",
    "    x=x//10\r\n",
    "    \r\n",
    "  return res\r\n",
    "  \r\n",
    "print(SumDigits(int(input())))\r\n",
    "  \r\n",
    "  "
   ],
   "outputs": [],
   "metadata": {}
  }
 ],
 "metadata": {
  "orig_nbformat": 4,
  "language_info": {
   "name": "python"
  }
 },
 "nbformat": 4,
 "nbformat_minor": 2
}