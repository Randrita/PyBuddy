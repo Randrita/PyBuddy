{
 "cells": [
  {
   "cell_type": "code",
   "execution_count": null,
   "source": [
    "def reverse(num):\r\n",
    "    res=0\r\n",
    "    while num:\r\n",
    "        n=num%10  #1254 --> 4\r\n",
    "        res=res*10+n #---> 0*10+4=4 | 4*10+5=45\r\n",
    "        num=num//10    #---> 1254//10=125    \r\n",
    "    \r\n",
    "    return res\r\n",
    "\r\n",
    "print(reverse(int(input())))"
   ],
   "outputs": [],
   "metadata": {}
  }
 ],
 "metadata": {
  "orig_nbformat": 4,
  "language_info": {
   "name": "python"
  }
 },
 "nbformat": 4,
 "nbformat_minor": 2
}