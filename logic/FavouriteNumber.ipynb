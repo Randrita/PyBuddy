{
 "cells": [
  {
   "cell_type": "code",
   "execution_count": null,
   "source": [
    "def FiveOccurences(n):\r\n",
    "      \r\n",
    "  count=0\r\n",
    "  while(n):\r\n",
    "    temp=n%10\r\n",
    "    if temp==5:\r\n",
    "      count+=1\r\n",
    "    n=n//10\r\n",
    "  return count\r\n",
    "\r\n",
    "for _  in range(int(input())):\r\n",
    "  print(FiveOccurences(int(input())))"
   ],
   "outputs": [],
   "metadata": {}
  }
 ],
 "metadata": {
  "orig_nbformat": 4,
  "language_info": {
   "name": "python"
  }
 },
 "nbformat": 4,
 "nbformat_minor": 2
}