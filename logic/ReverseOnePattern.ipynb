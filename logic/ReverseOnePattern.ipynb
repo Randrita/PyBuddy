{
 "cells": [
  {
   "cell_type": "code",
   "execution_count": null,
   "source": [
    "n=input()\r\n",
    "n=int(n)\r\n",
    "for i in range(n):\r\n",
    "    for j in range(n-i-1):\r\n",
    "        print(\" \",end=\" \")\r\n",
    "    for j in range(i+1):\r\n",
    "        print('1',end=\" \")\r\n",
    "        \r\n",
    "    print(\" \") "
   ],
   "outputs": [],
   "metadata": {}
  }
 ],
 "metadata": {
  "orig_nbformat": 4,
  "language_info": {
   "name": "python"
  }
 },
 "nbformat": 4,
 "nbformat_minor": 2
}